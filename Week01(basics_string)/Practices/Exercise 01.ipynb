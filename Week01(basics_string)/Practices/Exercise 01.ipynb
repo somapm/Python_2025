{
 "cells": [
  {
   "cell_type": "markdown",
   "metadata": {},
   "source": [
    "# Exercise 01: Basics\n"
   ]
  },
  {
   "cell_type": "markdown",
   "metadata": {},
   "source": [
    "### Question01 (Basics)\n",
    "#### for each of the following variables, try to cast them to the requested type. If the conversion is seccessful, write the resulting value. If not, explain why using a comment."
   ]
  },
  {
   "cell_type": "markdown",
   "metadata": {},
   "source": [
    "##### Convert to int"
   ]
  },
  {
   "cell_type": "code",
   "execution_count": 1,
   "metadata": {},
   "outputs": [],
   "source": [
    "price = \"15.0\"\n",
    "code = \"007\"\n",
    "name = \"Alice\"\n",
    "is_active = True # True = 1, False= 0"
   ]
  },
  {
   "cell_type": "code",
   "execution_count": 2,
   "metadata": {},
   "outputs": [
    {
     "ename": "ValueError",
     "evalue": "invalid literal for int() with base 10: 'Alice'",
     "output_type": "error",
     "traceback": [
      "\u001b[0;31m---------------------------------------------------------------------------\u001b[0m",
      "\u001b[0;31mValueError\u001b[0m                                Traceback (most recent call last)",
      "Cell \u001b[0;32mIn[2], line 3\u001b[0m\n\u001b[1;32m      1\u001b[0m \u001b[38;5;28mint\u001b[39m(\u001b[38;5;28mfloat\u001b[39m(price))\n\u001b[1;32m      2\u001b[0m \u001b[38;5;28mint\u001b[39m(code)\n\u001b[0;32m----> 3\u001b[0m \u001b[38;5;28mint\u001b[39m(name)\n",
      "\u001b[0;31mValueError\u001b[0m: invalid literal for int() with base 10: 'Alice'"
     ]
    }
   ],
   "source": [
    "int(float(price))\n",
    "int(code)\n",
    "int(name)"
   ]
  },
  {
   "cell_type": "code",
   "execution_count": 3,
   "metadata": {},
   "outputs": [
    {
     "data": {
      "text/plain": [
       "1"
      ]
     },
     "execution_count": 3,
     "metadata": {},
     "output_type": "execute_result"
    }
   ],
   "source": [
    "int(is_active)"
   ]
  },
  {
   "cell_type": "markdown",
   "metadata": {},
   "source": [
    "##### Convert to float"
   ]
  },
  {
   "cell_type": "code",
   "execution_count": null,
   "metadata": {},
   "outputs": [],
   "source": [
    "score = \"3.14\"\n",
    "amount = \"3,15\"\n",
    "value = \"NaN\" # NaN ==> Not a Number\n",
    "is_logged_in = False #--> False = 0"
   ]
  },
  {
   "cell_type": "code",
   "execution_count": 4,
   "metadata": {},
   "outputs": [
    {
     "data": {
      "text/plain": [
       "0.0"
      ]
     },
     "execution_count": 4,
     "metadata": {},
     "output_type": "execute_result"
    }
   ],
   "source": [
    "float(score)\n",
    "float(amount)\n",
    "float(value)\n",
    "float(is_logged_in)\n",
    "\n"
   ]
  },
  {
   "cell_type": "markdown",
   "metadata": {},
   "source": [
    "##### Convert to str"
   ]
  },
  {
   "cell_type": "code",
   "execution_count": 18,
   "metadata": {},
   "outputs": [],
   "source": [
    "age = 12\n",
    "average_score = 17.5\n",
    "is_verified = True"
   ]
  },
  {
   "cell_type": "code",
   "execution_count": 21,
   "metadata": {},
   "outputs": [
    {
     "data": {
      "text/plain": [
       "'True'"
      ]
     },
     "execution_count": 21,
     "metadata": {},
     "output_type": "execute_result"
    }
   ],
   "source": [
    "str(age)\n",
    "str(average_score)\n",
    "str(is_verified)"
   ]
  },
  {
   "cell_type": "markdown",
   "metadata": {},
   "source": [
    "##### Convert to boolean"
   ]
  },
  {
   "cell_type": "code",
   "execution_count": null,
   "metadata": {},
   "outputs": [],
   "source": [
    "username = \"\"\n",
    "status = \"False\"\n",
    "comment = \" \"\n",
    "visits = 0"
   ]
  },
  {
   "cell_type": "code",
   "execution_count": 26,
   "metadata": {},
   "outputs": [
    {
     "data": {
      "text/plain": [
       "False"
      ]
     },
     "execution_count": 26,
     "metadata": {},
     "output_type": "execute_result"
    }
   ],
   "source": [
    "bool(username)\n",
    "bool(status)\n",
    "bool(comment)\n",
    "bool(visits)"
   ]
  },
  {
   "cell_type": "markdown",
   "metadata": {},
   "source": [
    "### Question02 (Basics)\n",
    "#### Explain the result of the following codes step by step and write comment for that line by line"
   ]
  },
  {
   "cell_type": "code",
   "execution_count": 27,
   "metadata": {},
   "outputs": [
    {
     "name": "stdout",
     "output_type": "stream",
     "text": [
      "price= 120\n"
     ]
    }
   ],
   "source": [
    "price_str = \"120.5\" # 120.5\n",
    "price = int(float(price_str)) # float(price_str) --> 120.5 ==> int --> 120\n",
    "print(\"price=\",price) # price = 120"
   ]
  },
  {
   "cell_type": "code",
   "execution_count": 28,
   "metadata": {},
   "outputs": [
    {
     "name": "stdout",
     "output_type": "stream",
     "text": [
      "code= 1200\n"
     ]
    }
   ],
   "source": [
    "code = str(price) + \"0\" # ==> \"120\" + \"0\" ==> 1200\n",
    "print(\"code=\", code) # ==> code = 1200"
   ]
  },
  {
   "cell_type": "code",
   "execution_count": 29,
   "metadata": {},
   "outputs": [
    {
     "name": "stdout",
     "output_type": "stream",
     "text": [
      "result= 1200120.5\n"
     ]
    }
   ],
   "source": [
    "result = code + price_str # 1200 + 120.5 ==> 1200120.5\n",
    "print(\"result=\", result) # result= 1200120.5"
   ]
  },
  {
   "cell_type": "code",
   "execution_count": 30,
   "metadata": {},
   "outputs": [
    {
     "name": "stdout",
     "output_type": "stream",
     "text": [
      "final_price= 1200120.5\n"
     ]
    }
   ],
   "source": [
    "final_price = float(result)  # 1200120.5\n",
    "print(\"final_price=\", final_price) #final_price= 1200120.5\n"
   ]
  },
  {
   "cell_type": "code",
   "execution_count": 31,
   "metadata": {},
   "outputs": [
    {
     "name": "stdout",
     "output_type": "stream",
     "text": [
      "discounted= 1200120\n"
     ]
    }
   ],
   "source": [
    "discounted = int(final_price) # 1200120\n",
    "print(\"discounted=\", discounted) # discounted= 1200120"
   ]
  },
  {
   "cell_type": "markdown",
   "metadata": {},
   "source": [
    "### Question03 (Basics)\n",
    "#### Write a python program that takes two float numbers as input from the user. If both numbers are equal, print True. Otherwise, print False."
   ]
  },
  {
   "cell_type": "code",
   "execution_count": 32,
   "metadata": {},
   "outputs": [
    {
     "name": "stdout",
     "output_type": "stream",
     "text": [
      "True\n"
     ]
    }
   ],
   "source": [
    "first_number = float(input(\"Enter the first number: \"))\n",
    "second_number = float(input(\"Enter the second number: \"))\n",
    "\n",
    "print(first_number == second_number)"
   ]
  },
  {
   "cell_type": "markdown",
   "metadata": {},
   "source": [
    "### Question04 (Basics)\n",
    "#### Write a python program that swaps the values of two variables."
   ]
  },
  {
   "cell_type": "code",
   "execution_count": 35,
   "metadata": {},
   "outputs": [
    {
     "name": "stdout",
     "output_type": "stream",
     "text": [
      "a=  2\n",
      "b=  10\n"
     ]
    }
   ],
   "source": [
    "a = input(\"Enter the first number(a): \")\n",
    "b = input(\"Enter second number(b): \")\n",
    "\n",
    "temp = a  \n",
    "a = b \n",
    "b = temp\n",
    "\n",
    "# a , b = b , a\n",
    "print(\"a= \", a)\n",
    "print(\"b= \", b)"
   ]
  },
  {
   "cell_type": "markdown",
   "metadata": {},
   "source": [
    "### Question05 (Basics)\n",
    "#### Write a python program with the following variable assignments. Check the output for each one. If there's no error, comment on what the code does. If there's an error, fix it."
   ]
  },
  {
   "cell_type": "code",
   "execution_count": 39,
   "metadata": {},
   "outputs": [
    {
     "name": "stdout",
     "output_type": "stream",
     "text": [
      "100 200 , 30.5\n"
     ]
    }
   ],
   "source": [
    "price1, price2, price3 = 100,200,30.5\n",
    "print(price1, price2,\",\", price3)"
   ]
  },
  {
   "cell_type": "code",
   "execution_count": 42,
   "metadata": {},
   "outputs": [
    {
     "name": "stdout",
     "output_type": "stream",
     "text": [
      "18.9\n"
     ]
    }
   ],
   "source": [
    "score1 = score2 = 18.9\n",
    "print(score2)\n"
   ]
  },
  {
   "cell_type": "code",
   "execution_count": 44,
   "metadata": {},
   "outputs": [],
   "source": [
    "str1, str2, str3 = 'python', 'java', \"C#\""
   ]
  },
  {
   "cell_type": "code",
   "execution_count": 45,
   "metadata": {},
   "outputs": [
    {
     "name": "stdout",
     "output_type": "stream",
     "text": [
      "C#\n"
     ]
    }
   ],
   "source": [
    "print(str3)"
   ]
  },
  {
   "cell_type": "code",
   "execution_count": 48,
   "metadata": {},
   "outputs": [
    {
     "name": "stdout",
     "output_type": "stream",
     "text": [
      "java\n",
      "python\n"
     ]
    }
   ],
   "source": [
    "str1, str2 = 'python', 'java'\n",
    "print(str2)\n",
    "print(str1)"
   ]
  },
  {
   "cell_type": "code",
   "execution_count": null,
   "metadata": {},
   "outputs": [],
   "source": []
  }
 ],
 "metadata": {
  "kernelspec": {
   "display_name": "base",
   "language": "python",
   "name": "python3"
  },
  "language_info": {
   "codemirror_mode": {
    "name": "ipython",
    "version": 3
   },
   "file_extension": ".py",
   "mimetype": "text/x-python",
   "name": "python",
   "nbconvert_exporter": "python",
   "pygments_lexer": "ipython3",
   "version": "3.11.7"
  }
 },
 "nbformat": 4,
 "nbformat_minor": 2
}
