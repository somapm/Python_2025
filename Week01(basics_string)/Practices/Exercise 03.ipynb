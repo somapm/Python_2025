{
 "cells": [
  {
   "cell_type": "markdown",
   "id": "50bcbbb3",
   "metadata": {},
   "source": [
    "<img src=\"logo.png\" alt=\"Virak logo\" style=\"float:center; width:500px; margin-left:100px;\">"
   ]
  },
  {
   "cell_type": "markdown",
   "id": "cd5c2700",
   "metadata": {},
   "source": [
    "## **Exercise 03: Condition**\n",
    "### <span style=\"color:#FF4C29; font-weight:bold\">Question01</span>\n",
    " **Write a program that takes two stribgs from the user. The program should do the following:**\n",
    "- If the second string exists within the first string, remove it from the first string.\n",
    "- Otherwise, add the second string to both the beginning and the end of the first string. "
   ]
  },
  {
   "cell_type": "code",
   "execution_count": null,
   "id": "cb3f6398",
   "metadata": {},
   "outputs": [],
   "source": []
  },
  {
   "cell_type": "markdown",
   "id": "05be3f2f",
   "metadata": {},
   "source": [
    "### <span style=\"color:#FF4C29; font-weight:bold\">Question02</span>\n",
    " **Write a program that receives the base salary of an employee and calculates the salary after tax deducation. The program should perform the following:**\n",
    " - If the salary is less than 3000, it is tax-exempt.\n",
    " - If the salary is between 3000 and 5000, apply a 10% tax.\n",
    " - If the salary is between 5000 and 8000, apply a 15% tax.\n",
    " - If the salary is more than 8000, apply a 20% tax.\n",
    " \n",
    "**the program should display the net salary after applying the appropriate tax.**\n"
   ]
  },
  {
   "cell_type": "code",
   "execution_count": null,
   "id": "8408d35c",
   "metadata": {},
   "outputs": [],
   "source": []
  },
  {
   "cell_type": "code",
   "execution_count": null,
   "id": "2400346b",
   "metadata": {},
   "outputs": [],
   "source": []
  }
 ],
 "metadata": {
  "kernelspec": {
   "display_name": "base",
   "language": "python",
   "name": "python3"
  },
  "language_info": {
   "codemirror_mode": {
    "name": "ipython",
    "version": 3
   },
   "file_extension": ".py",
   "mimetype": "text/x-python",
   "name": "python",
   "nbconvert_exporter": "python",
   "pygments_lexer": "ipython3",
   "version": "3.11.7"
  }
 },
 "nbformat": 4,
 "nbformat_minor": 5
}
