{
 "cells": [
  {
   "cell_type": "markdown",
   "id": "b62d25ae",
   "metadata": {},
   "source": [
    "<img src=\"logo.png\" alt=\"Virak logo\" style=\"float:center; width:350px; margin-left:200px;\">"
   ]
  },
  {
   "cell_type": "markdown",
   "id": "592b393a",
   "metadata": {},
   "source": [
    "## **Exercise 04: Loop**\n",
    "### <span style=\"color:#FF4C29; font-weight:bold\">Question01</span>\n",
    "**Write a programm that recieves the name and price of five products from the user. The program should perform the following tasks:**\n",
    "- For each products, display its name and price.\n",
    "- If the price of a product is more than 500, lable it as \"Expensive\", otherwise lable it as \"Cheap\".\n",
    "- Calculate and display the average price of all products.\n",
    "- Identify and display the name and price of the cheapset product.\n",
    "- Identify and display the name and price of the most expensive product.\n"
   ]
  },
  {
   "cell_type": "code",
   "execution_count": null,
   "id": "b487b9ba",
   "metadata": {},
   "outputs": [],
   "source": []
  },
  {
   "cell_type": "code",
   "execution_count": null,
   "id": "593ab451",
   "metadata": {},
   "outputs": [],
   "source": []
  },
  {
   "cell_type": "markdown",
   "id": "9f78b451",
   "metadata": {},
   "source": [
    "### <span style=\"color:#FF4C29; font-weight:bold\">Question02</span>\n",
    " **Write a program that takes a number from the user and calculates its factorial**"
   ]
  },
  {
   "cell_type": "code",
   "execution_count": null,
   "id": "d6cccee2",
   "metadata": {},
   "outputs": [],
   "source": []
  },
  {
   "cell_type": "markdown",
   "id": "6b22c75d",
   "metadata": {},
   "source": [
    "### <span style=\"color:#FF4C29; font-weight:bold\">Question03</span>\n",
    "**Write a program that takes the names of five different files from the user and display how many of them have the .py extension.**"
   ]
  },
  {
   "cell_type": "code",
   "execution_count": null,
   "id": "47a5f61b",
   "metadata": {},
   "outputs": [],
   "source": []
  }
 ],
 "metadata": {
  "language_info": {
   "name": "python"
  }
 },
 "nbformat": 4,
 "nbformat_minor": 5
}
