{
 "cells": [
  {
   "cell_type": "markdown",
   "id": "a5d47794",
   "metadata": {},
   "source": [
    "<img src=\"logo.png\" alt=\"Virak logo\" style=\"float:center; width:350px; margin-left:200px;\">"
   ]
  },
  {
   "cell_type": "markdown",
   "id": "fa5470fe",
   "metadata": {},
   "source": [
    "### **Exercise 02: String**\n",
    "### <span style=\"color:#FF4C29; font-weight:bold\">Question01</span>\n",
    "**Write a python program that:**\n",
    "- Takes a string as input from the user.\n",
    "= Displays the first, last, and middle character of the string. (If the string length is even, display either of the middle characters.)\n",
    "- Displays the lenght of the string.\n",
    "- Displays the characters from the string that are at even indexes (index 0,2,4, etc..).\n",
    "- Displays the string in revers.\n",
    "- Displays the first half and the second half of the string"
   ]
  },
  {
   "cell_type": "code",
   "execution_count": null,
   "id": "f6f384f9",
   "metadata": {},
   "outputs": [],
   "source": []
  },
  {
   "cell_type": "markdown",
   "id": "fd7d1220",
   "metadata": {},
   "source": [
    "### <span style=\"color:#FF4C29; font-weight:bold\">Question02</span>\n",
    " **Write a Python program that takes a student ID from the user. If the ID is entirely a number, display True. Otherwise, display Flase**"
   ]
  },
  {
   "cell_type": "code",
   "execution_count": null,
   "id": "9f7001f2",
   "metadata": {},
   "outputs": [],
   "source": []
  },
  {
   "cell_type": "markdown",
   "id": "8eefb495",
   "metadata": {},
   "source": [
    "### <span style=\"color:#FF4C29; font-weight:bold\">Question03</span>\n",
    " **Write a Python program that takes a string as input from the user and removes all spaces from it, including the spaces at the beginning, end, and within the string.** "
   ]
  },
  {
   "cell_type": "code",
   "execution_count": null,
   "id": "afea10e5",
   "metadata": {},
   "outputs": [],
   "source": []
  },
  {
   "cell_type": "markdown",
   "id": "efc873c6",
   "metadata": {},
   "source": [
    "### <span style=\"color:#FF4C29; font-weight:bold\">Question04</span>\n",
    "**Find two new methods for strings in Python that were not covered in class. Write an example to demonstrate their usage.**"
   ]
  },
  {
   "cell_type": "code",
   "execution_count": null,
   "id": "873b6d88",
   "metadata": {},
   "outputs": [],
   "source": []
  }
 ],
 "metadata": {
  "language_info": {
   "name": "python"
  }
 },
 "nbformat": 4,
 "nbformat_minor": 5
}
